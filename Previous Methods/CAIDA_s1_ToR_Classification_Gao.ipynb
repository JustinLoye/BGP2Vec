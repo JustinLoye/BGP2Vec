{
 "cells": [
  {
   "cell_type": "markdown",
   "metadata": {},
   "source": [
    "# Import python packages"
   ]
  },
  {
   "cell_type": "code",
   "execution_count": 1,
   "metadata": {
    "ExecuteTime": {
     "end_time": "2019-12-28T16:47:42.386505Z",
     "start_time": "2019-12-28T16:47:40.777109Z"
    }
   },
   "outputs": [],
   "source": [
    "from gao import Gao\n",
    "\n",
    "import pickle\n",
    "import numpy as np\n",
    "from sklearn.model_selection import train_test_split\n",
    "from collections import Counter\n",
    "import random\n",
    "\n",
    "np.random.seed(7)"
   ]
  },
  {
   "cell_type": "markdown",
   "metadata": {},
   "source": [
    "# Define parameters and load bgp_routes and ToR datasets"
   ]
  },
  {
   "cell_type": "markdown",
   "metadata": {},
   "source": [
    "Get path data"
   ]
  },
  {
   "cell_type": "code",
   "execution_count": 9,
   "metadata": {},
   "outputs": [],
   "source": [
    "from quickrib.main import QuickRIB\n",
    "import datetime\n",
    "\n",
    "quickrib = QuickRIB(\n",
    "    output_filename=\"bigconf\",\n",
    "    output_folder=\"./data\",\n",
    "    dump_res=datetime.timedelta(minutes=15),\n",
    "    start_time=datetime.datetime(2018, 3, 1),\n",
    "    end_time=datetime.datetime(2018, 3, 1),\n",
    "    collectors=[\"rrc04\"],\n",
    ")"
   ]
  },
  {
   "cell_type": "code",
   "execution_count": null,
   "metadata": {},
   "outputs": [
    {
     "name": "stdout",
     "output_type": "stream",
     "text": [
      "{'rrc04': 1519862400.0} {'rrc04': 1519862400.0}\n"
     ]
    }
   ],
   "source": [
    "import csv\n",
    "from quickrib.observers import PrefixBlockSizeObserver\n",
    "import json\n",
    "\n",
    "block_sizes = PrefixBlockSizeObserver()\n",
    "\n",
    "\n",
    "quickrib.intialize_processing()\n",
    "\n",
    "quickrib.build_rib()\n",
    "\n",
    "with open(\"small.pickle\", \"wb\") as f:\n",
    "    pickle.dump(quickrib, file=f)\n",
    "\n",
    "with open(\"small.pickle\", \"rb\") as f:\n",
    "    quickrib = pickle.load(f)\n",
    "with open(\"small_conf_paths.csv\", \"w\") as f:\n",
    "    writer = csv.writer(f, quoting=csv.QUOTE_MINIMAL)\n",
    "\n",
    "    for bgpelem in quickrib.rib.iter_bgpelems():\n",
    "        paths = bgpelem.fields[\"as-path\"]\n",
    "        block_size = block_sizes.get_block_size(bgpelem)\n",
    "\n",
    "        paths_str = json.dumps(paths)\n",
    "        writer.writerow([paths_str, block_size])\n"
   ]
  },
  {
   "cell_type": "code",
   "execution_count": 15,
   "metadata": {},
   "outputs": [
    {
     "name": "stdout",
     "output_type": "stream",
     "text": [
      "Loaded 4753804 rows\n",
      "First AS‑path list: ['513', '6730']\n",
      "First block size: 0\n"
     ]
    }
   ],
   "source": [
    "import csv\n",
    "import json\n",
    "import numpy as np\n",
    "\n",
    "# Lists to accumulate\n",
    "paths_list = []\n",
    "block_sizes = []\n",
    "\n",
    "# Open and read the CSV you wrote\n",
    "with open(\"big_conf_paths.csv\", newline=\"\") as f:\n",
    "    reader = csv.reader(f, quoting=csv.QUOTE_MINIMAL)\n",
    "    for paths_str, blk in reader:\n",
    "        # parse the JSON array of AS‑paths back into a Python list\n",
    "        paths = json.loads(paths_str)\n",
    "        paths_list.append(paths)\n",
    "        block_sizes.append(int(blk))\n",
    "\n",
    "# Convert into NumPy arrays\n",
    "# - paths_array will be a 1-D array of Python lists\n",
    "# - block_sizes_array will be a 1-D array of ints\n",
    "paths_array = np.array(paths_list, dtype=object)\n",
    "block_sizes_array = np.array(block_sizes, dtype=int)\n",
    "\n",
    "# Example usage\n",
    "print(\"Loaded\", len(paths_array), \"rows\")\n",
    "print(\"First AS‑path list:\", paths_array[0])\n",
    "print(\"First block size:\", block_sizes_array[0])"
   ]
  },
  {
   "cell_type": "code",
   "execution_count": 29,
   "metadata": {
    "ExecuteTime": {
     "end_time": "2019-12-28T16:48:00.323800Z",
     "start_time": "2019-12-28T16:47:44.259171Z"
    }
   },
   "outputs": [
    {
     "name": "stdout",
     "output_type": "stream",
     "text": [
      "(4753804,)\n",
      "(861840, 2) (861840,)\n"
     ]
    }
   ],
   "source": [
    "ToR_MODEL_NAME = \"CAIDA_s1_ToR_Classification_Gao\"\n",
    "\n",
    "TEST_SIZE = 0.2\n",
    "TOR_LABELS_DICT = {'P2P':0, 'C2P': 1,'P2C': 2}\n",
    "class_names = ['P2P', 'C2P', 'P2C']\n",
    "DATA_PATH = '../'\n",
    "MODELS_PATH = '../Models/'\n",
    "RESULTS_PATH = '../Results/'\n",
    "\n",
    "\n",
    "# bgp_routes = np.load(DATA_PATH + \"bgp_routes_dataset.npy\")\n",
    "# bgp_routes_labels = np.load(DATA_PATH + \"bgp_routes_labels.npy\")\n",
    "# print(bgp_routes.shape, bgp_routes_labels.shape)\n",
    "bgp_routes = paths_array\n",
    "print(bgp_routes.shape)\n",
    "\n",
    "DATA = \"caida_s1_tor\"\n",
    "tor_dataset = np.load(DATA_PATH + DATA + \"_dataset.npy\")\n",
    "tor_labels = np.load(DATA_PATH + DATA + \"_labels.npy\")\n",
    "\n",
    "print(tor_dataset.shape, tor_labels.shape)"
   ]
  },
  {
   "cell_type": "markdown",
   "metadata": {},
   "source": [
    "# Generate training and test sets\n",
    "## Shauffle dataset"
   ]
  },
  {
   "cell_type": "code",
   "execution_count": 20,
   "metadata": {
    "ExecuteTime": {
     "end_time": "2019-12-28T16:48:00.577824Z",
     "start_time": "2019-12-28T16:48:00.406181Z"
    }
   },
   "outputs": [],
   "source": [
    "from sklearn.utils import shuffle\n",
    "dataset, labels = shuffle(tor_dataset, tor_labels, random_state=7)"
   ]
  },
  {
   "cell_type": "markdown",
   "metadata": {},
   "source": [
    "## Generate a balanced dataset"
   ]
  },
  {
   "cell_type": "code",
   "execution_count": 21,
   "metadata": {
    "ExecuteTime": {
     "end_time": "2018-11-17T13:08:27.960627Z",
     "start_time": "2018-11-17T13:08:27.890678Z"
    }
   },
   "outputs": [],
   "source": [
    "# def generate_balanced_dataset(dataset, labels, labels_set):\n",
    "#     sets_dict = dict()\n",
    "#     for label in labels_set:\n",
    "#         sets_dict[label] = np.asarray([np.asarray(dataset[i]) for i in range(len(dataset)) if labels[i] == label])\n",
    "    \n",
    "#     min_set_len = min([len(label_set) for label_set in sets_dict.values()])\n",
    "    \n",
    "#     for label, label_set in sets_dict.iteritems():\n",
    "#         sets_dict[label] = label_set[np.random.choice(label_set.shape[0], min_set_len, replace=False)]\n",
    "    \n",
    "#     dataset = np.concatenate((sets_dict.values()))\n",
    "#     labels = []\n",
    "#     for label, label_set in sets_dict.iteritems():\n",
    "#         labels += [label]*len(label_set)\n",
    "#         print label, len(label_set)\n",
    "#     labels = np.asarray(labels)\n",
    "#     return shuffle(dataset, labels, random_state=7)\n",
    "\n",
    "# dataset, labels = generate_balanced_dataset(dataset, labels, (0,1,3))\n",
    "# print dataset.shape, labels.shape"
   ]
  },
  {
   "cell_type": "markdown",
   "metadata": {},
   "source": [
    "## Train Test Split"
   ]
  },
  {
   "cell_type": "code",
   "execution_count": 22,
   "metadata": {
    "ExecuteTime": {
     "end_time": "2019-12-28T16:48:00.829781Z",
     "start_time": "2019-12-28T16:48:00.646358Z"
    }
   },
   "outputs": [],
   "source": [
    "x_training, x_test, y_training, y_test = train_test_split(dataset, labels, test_size=TEST_SIZE)\n",
    "\n",
    "del dataset, labels"
   ]
  },
  {
   "cell_type": "markdown",
   "metadata": {},
   "source": [
    "# Run Gao Algorithm"
   ]
  },
  {
   "cell_type": "code",
   "execution_count": 23,
   "metadata": {
    "ExecuteTime": {
     "end_time": "2019-12-28T16:52:20.670034Z",
     "start_time": "2019-12-28T16:48:00.904655Z"
    }
   },
   "outputs": [
    {
     "name": "stdout",
     "output_type": "stream",
     "text": [
      "Finished __compute_as_degree\n",
      "Finished __compute_as_transit_rank\n",
      "Finished __assign_p2c_c2p_siblings_tors\n",
      "Finished __identify_not_peering\n",
      "Finished __assign_p2p_tors\n"
     ]
    }
   ],
   "source": [
    "gao = Gao(bgp_routes)"
   ]
  },
  {
   "cell_type": "markdown",
   "metadata": {
    "ExecuteTime": {
     "end_time": "2018-10-20T11:24:40.580036Z",
     "start_time": "2018-10-20T11:24:33.351927Z"
    }
   },
   "source": [
    "# Final evaluation of the model\n",
    "## Evaluate accuracy over the test set"
   ]
  },
  {
   "cell_type": "code",
   "execution_count": 24,
   "metadata": {
    "ExecuteTime": {
     "end_time": "2019-12-28T16:52:58.117429Z",
     "start_time": "2019-12-28T16:52:56.665253Z"
    }
   },
   "outputs": [
    {
     "name": "stdout",
     "output_type": "stream",
     "text": [
      "172368\n",
      "172368\n"
     ]
    }
   ],
   "source": [
    "y_test_prediction = gao.generate_labels_for_set(x_test)\n",
    "\n",
    "print(len(y_test_prediction))\n",
    "y_test_prediction_new = []\n",
    "for i in range(len(y_test_prediction)):\n",
    "    if y_test_prediction[i] %2 == 0:\n",
    "        y_test_prediction_new.append(0)\n",
    "    elif y_test_prediction[i] == 3:\n",
    "        y_test_prediction_new.append(2)\n",
    "    else:\n",
    "        y_test_prediction_new.append(1)\n",
    "\n",
    "y_test_prediction_new = np.asarray(y_test_prediction_new)\n",
    "print(len(y_test_prediction_new))\n",
    "y_test_prediction = y_test_prediction_new"
   ]
  },
  {
   "cell_type": "code",
   "execution_count": 25,
   "metadata": {
    "ExecuteTime": {
     "end_time": "2019-12-28T16:53:00.107058Z",
     "start_time": "2019-12-28T16:53:00.072184Z"
    }
   },
   "outputs": [
    {
     "name": "stdout",
     "output_type": "stream",
     "text": [
      "Accuracy: 13.93%\n"
     ]
    }
   ],
   "source": [
    "from sklearn.metrics import accuracy_score\n",
    "test_scores = accuracy_score(y_test, y_test_prediction)\n",
    "print(\"Accuracy: %.2f%%\" % (test_scores*100))"
   ]
  },
  {
   "cell_type": "code",
   "execution_count": 10,
   "metadata": {
    "ExecuteTime": {
     "end_time": "2018-11-17T15:27:13.913361Z",
     "start_time": "2018-11-17T15:27:13.845207Z"
    }
   },
   "outputs": [],
   "source": [
    "# x_test_cleaned = np.asarray([np.asarray(x_test[i]) for i in range(len(x_test)) if y_test_prediction[i] != -1])\n",
    "# y_test_cleaned = np.asarray([y_test[i] for i in range(len(y_test)) if y_test_prediction[i] != -1])\n",
    "# y_test_prediction_cleaned = np.asarray([y_test_prediction[i] for i in range(len(y_test_prediction)) if y_test_prediction[i] != -1])"
   ]
  },
  {
   "cell_type": "code",
   "execution_count": 11,
   "metadata": {
    "ExecuteTime": {
     "end_time": "2018-11-17T15:27:15.867226Z",
     "start_time": "2018-11-17T15:27:15.861071Z"
    }
   },
   "outputs": [
    {
     "name": "stdout",
     "output_type": "stream",
     "text": [
      "(22676, 22676, 22676)\n"
     ]
    }
   ],
   "source": [
    "# print(len(x_test_cleaned), len(y_test_cleaned), len(y_test_prediction_cleaned))"
   ]
  },
  {
   "cell_type": "code",
   "execution_count": 12,
   "metadata": {
    "ExecuteTime": {
     "end_time": "2018-11-17T15:27:17.061659Z",
     "start_time": "2018-11-17T15:27:17.052861Z"
    }
   },
   "outputs": [
    {
     "name": "stdout",
     "output_type": "stream",
     "text": [
      "Accuracy: 89.72%\n"
     ]
    }
   ],
   "source": [
    "# from sklearn.metrics import accuracy_score\n",
    "# test_scores = accuracy_score(y_test_cleaned, y_test_prediction_cleaned)\n",
    "# print(\"Accuracy: %.2f%%\" % (test_scores*100))"
   ]
  },
  {
   "cell_type": "markdown",
   "metadata": {},
   "source": [
    "## Test if by learning (asn1, asn2) -> p2c then (asn2, asn1) -> c2p and vice versa"
   ]
  },
  {
   "cell_type": "code",
   "execution_count": null,
   "metadata": {
    "ExecuteTime": {
     "end_time": "2019-12-28T16:53:07.000941Z",
     "start_time": "2019-12-28T16:53:06.962919Z"
    }
   },
   "outputs": [
    {
     "ename": "NameError",
     "evalue": "name 'TOR_ORIG_LABELS_DICT' is not defined",
     "output_type": "error",
     "traceback": [
      "\u001b[0;31m---------------------------------------------------------------------------\u001b[0m",
      "\u001b[0;31mNameError\u001b[0m                                 Traceback (most recent call last)",
      "\u001b[0;32m<ipython-input-8-2e282c394516>\u001b[0m in \u001b[0;36m<module>\u001b[0;34m\u001b[0m\n\u001b[0;32m----> 1\u001b[0;31m \u001b[0mp2c\u001b[0m \u001b[0;34m=\u001b[0m \u001b[0mTOR_ORIG_LABELS_DICT\u001b[0m\u001b[0;34m[\u001b[0m\u001b[0;34m'P2C'\u001b[0m\u001b[0;34m]\u001b[0m\u001b[0;34m\u001b[0m\u001b[0;34m\u001b[0m\u001b[0m\n\u001b[0m\u001b[1;32m      2\u001b[0m \u001b[0mc2p\u001b[0m \u001b[0;34m=\u001b[0m \u001b[0mTOR_ORIG_LABELS_DICT\u001b[0m\u001b[0;34m[\u001b[0m\u001b[0;34m'C2P'\u001b[0m\u001b[0;34m]\u001b[0m\u001b[0;34m\u001b[0m\u001b[0;34m\u001b[0m\u001b[0m\n\u001b[1;32m      3\u001b[0m \u001b[0;34m\u001b[0m\u001b[0m\n\u001b[1;32m      4\u001b[0m \u001b[0mp2c_training\u001b[0m \u001b[0;34m=\u001b[0m \u001b[0mnp\u001b[0m\u001b[0;34m.\u001b[0m\u001b[0masarray\u001b[0m\u001b[0;34m(\u001b[0m\u001b[0;34m[\u001b[0m\u001b[0mnp\u001b[0m\u001b[0;34m.\u001b[0m\u001b[0masarray\u001b[0m\u001b[0;34m(\u001b[0m\u001b[0mx_training\u001b[0m\u001b[0;34m[\u001b[0m\u001b[0mi\u001b[0m\u001b[0;34m]\u001b[0m\u001b[0;34m)\u001b[0m \u001b[0;32mfor\u001b[0m \u001b[0mi\u001b[0m \u001b[0;32min\u001b[0m \u001b[0mrange\u001b[0m\u001b[0;34m(\u001b[0m\u001b[0mlen\u001b[0m\u001b[0;34m(\u001b[0m\u001b[0mx_training\u001b[0m\u001b[0;34m)\u001b[0m\u001b[0;34m)\u001b[0m \u001b[0;32mif\u001b[0m \u001b[0my_training\u001b[0m\u001b[0;34m[\u001b[0m\u001b[0mi\u001b[0m\u001b[0;34m]\u001b[0m \u001b[0;34m==\u001b[0m \u001b[0mp2c\u001b[0m\u001b[0;34m]\u001b[0m\u001b[0;34m)\u001b[0m\u001b[0;34m\u001b[0m\u001b[0;34m\u001b[0m\u001b[0m\n\u001b[1;32m      5\u001b[0m \u001b[0mp2c_training_oposite\u001b[0m \u001b[0;34m=\u001b[0m \u001b[0mnp\u001b[0m\u001b[0;34m.\u001b[0m\u001b[0masarray\u001b[0m\u001b[0;34m(\u001b[0m\u001b[0;34m[\u001b[0m\u001b[0mnp\u001b[0m\u001b[0;34m.\u001b[0m\u001b[0masarray\u001b[0m\u001b[0;34m(\u001b[0m\u001b[0;34m[\u001b[0m\u001b[0mpair\u001b[0m\u001b[0;34m[\u001b[0m\u001b[0;36m1\u001b[0m\u001b[0;34m]\u001b[0m\u001b[0;34m,\u001b[0m \u001b[0mpair\u001b[0m\u001b[0;34m[\u001b[0m\u001b[0;36m0\u001b[0m\u001b[0;34m]\u001b[0m\u001b[0;34m]\u001b[0m\u001b[0;34m)\u001b[0m \u001b[0;32mfor\u001b[0m \u001b[0mpair\u001b[0m \u001b[0;32min\u001b[0m \u001b[0mp2c_training\u001b[0m\u001b[0;34m]\u001b[0m\u001b[0;34m)\u001b[0m\u001b[0;34m\u001b[0m\u001b[0;34m\u001b[0m\u001b[0m\n",
      "\u001b[0;31mNameError\u001b[0m: name 'TOR_ORIG_LABELS_DICT' is not defined"
     ]
    }
   ],
   "source": [
    "# p2c = TOR_ORIG_LABELS_DICT['P2C']\n",
    "# c2p = TOR_ORIG_LABELS_DICT['C2P']\n",
    "\n",
    "# p2c_training = np.asarray([np.asarray(x_training[i]) for i in range(len(x_training)) if y_training[i] == p2c])\n",
    "# p2c_training_oposite = np.asarray([np.asarray([pair[1], pair[0]]) for pair in p2c_training])\n",
    "# p2c_training_labels = [p2c]*len(p2c_training)\n",
    "# p2c_training_oposite_labels = [c2p]*len(p2c_training_oposite)\n",
    "# print(p2c_training.shape, p2c_training_oposite.shape)"
   ]
  },
  {
   "cell_type": "code",
   "execution_count": null,
   "metadata": {
    "ExecuteTime": {
     "end_time": "2019-01-11T18:59:45.609189Z",
     "start_time": "2019-01-11T18:59:45.040515Z"
    }
   },
   "outputs": [
    {
     "name": "stdout",
     "output_type": "stream",
     "text": [
      "Accuracy: 0.63%\n",
      "Accuracy: 98.65%\n"
     ]
    }
   ],
   "source": [
    "# p2c_training_labels_prediction = gao.generate_labels_for_set(p2c_training)\n",
    "# p2c_training_scores = accuracy_score(p2c_training_labels, p2c_training_labels_prediction)\n",
    "# print(\"Accuracy: %.2f%%\" % (p2c_training_scores*100))\n",
    "\n",
    "# p2c_training_oposite_labels_prediction = gao.generate_labels_for_set(p2c_training_oposite)\n",
    "# p2c_training_oposite_scores = accuracy_score(p2c_training_oposite_labels, p2c_training_oposite_labels_prediction)\n",
    "# print(\"Accuracy: %.2f%%\" % (p2c_training_oposite_scores*100))"
   ]
  },
  {
   "cell_type": "markdown",
   "metadata": {},
   "source": [
    "## Plot and save a confusion matrix for results over the test set"
   ]
  },
  {
   "cell_type": "markdown",
   "metadata": {},
   "source": [
    "### Define a function"
   ]
  },
  {
   "cell_type": "code",
   "execution_count": 26,
   "metadata": {
    "ExecuteTime": {
     "end_time": "2019-12-28T16:54:27.119040Z",
     "start_time": "2019-12-28T16:54:26.644604Z"
    }
   },
   "outputs": [],
   "source": [
    "%matplotlib inline\n",
    "\n",
    "import matplotlib\n",
    "import pylab as pl\n",
    "from sklearn.metrics import confusion_matrix\n",
    "import itertools\n",
    "import matplotlib.pyplot as plt\n",
    "import matplotlib.cm as cm\n",
    "\n",
    "def plot_confusion_matrix(cm, classes,\n",
    "                          normalize=False,\n",
    "                          title='Confusion matrix',\n",
    "                          fname='Confusion matrix',\n",
    "                          cmap=plt.cm.Blues):\n",
    "    \"\"\"\n",
    "    This function prints and plots the confusion matrix.\n",
    "    Normalization can be applied by setting `normalize=True`.\n",
    "    \"\"\"\n",
    "    if normalize:\n",
    "        cm = cm.astype('float') / cm.sum(axis=1)[:, np.newaxis]\n",
    "        print(\"Normalized confusion matrix\")\n",
    "    else:\n",
    "        print('Confusion matrix, without normalization')\n",
    "\n",
    "#     print(cm)\n",
    "\n",
    "    plt.imshow(cm, interpolation='nearest', cmap=cmap)\n",
    "#     plt.title(title)\n",
    "    plt.colorbar()\n",
    "    tick_marks = np.arange(len(classes))\n",
    "    plt.xticks(tick_marks, classes, rotation=45)\n",
    "    plt.yticks(tick_marks, classes)\n",
    "\n",
    "    fmt = '.1f' if normalize else 'd'\n",
    "    thresh = cm.max() / 2.\n",
    "    for i, j in itertools.product(range(cm.shape[0]), range(cm.shape[1])):\n",
    "        if normalize:\n",
    "            plt.text(j, i, format(cm[i, j]*100, fmt) + '%',\n",
    "                 horizontalalignment=\"center\",\n",
    "                 color=\"white\" if cm[i, j] > thresh else \"black\")\n",
    "        else:\n",
    "            plt.text(j, i, format(cm[i, j], fmt),\n",
    "                 horizontalalignment=\"center\",\n",
    "                 color=\"white\" if cm[i, j] > thresh else \"black\")    \n",
    "        \n",
    "    plt.tight_layout()\n",
    "    plt.ylabel('True Label')\n",
    "    plt.xlabel('Predicted Label')\n",
    "    plt.savefig(fname, bbox_inches='tight')"
   ]
  },
  {
   "cell_type": "code",
   "execution_count": 30,
   "metadata": {
    "ExecuteTime": {
     "end_time": "2019-12-28T16:54:30.733765Z",
     "start_time": "2019-12-28T16:54:28.284033Z"
    }
   },
   "outputs": [
    {
     "name": "stdout",
     "output_type": "stream",
     "text": [
      "Confusion matrix, without normalization\n"
     ]
    },
    {
     "name": "stderr",
     "output_type": "stream",
     "text": [
      "/tmp/ipykernel_1488650/1682605329.py:20: RuntimeWarning: invalid value encountered in divide\n",
      "  cm = cm.astype('float') / cm.sum(axis=1)[:, np.newaxis]\n"
     ]
    },
    {
     "name": "stdout",
     "output_type": "stream",
     "text": [
      "Normalized confusion matrix\n"
     ]
    },
    {
     "data": {
      "image/png": "[encoded data removed]",
      "text/plain": [
       "<Figure size 640x480 with 2 Axes>"
      ]
     },
     "metadata": {},
     "output_type": "display_data"
    },
    {
     "data": {
      "image/png": "[encoded data removed]",
      "text/plain": [
       "<Figure size 640x480 with 2 Axes>"
      ]
     },
     "metadata": {},
     "output_type": "display_data"
    }
   ],
   "source": [
    "# Compute confusion matrix\n",
    "cnf_matrix = confusion_matrix(y_test, y_test_prediction)\n",
    "np.set_printoptions(precision=2)\n",
    "\n",
    "# Plot non-normalized confusion matrix\n",
    "plt.figure()\n",
    "plot_confusion_matrix(cnf_matrix, classes=class_names,\n",
    "                      title='Confusion matrix, without normalization',\n",
    "                      fname=RESULTS_PATH + ToR_MODEL_NAME + \"_\" + 'Confusion_matrix_without_normalization')\n",
    "\n",
    "# Plot normalized confusion matrix\n",
    "plt.figure()\n",
    "plot_confusion_matrix(cnf_matrix, classes=class_names, normalize=True,\n",
    "                      title='Normalized Confusion Msatrix',\n",
    "                      fname=RESULTS_PATH +ToR_MODEL_NAME + \"_\" + 'Normalized_confusion_matrix')\n",
    "\n",
    "plt.show()"
   ]
  },
  {
   "cell_type": "markdown",
   "metadata": {
    "heading_collapsed": true
   },
   "source": [
    "# Export the model to a file"
   ]
  },
  {
   "cell_type": "code",
   "execution_count": null,
   "metadata": {
    "ExecuteTime": {
     "end_time": "2018-11-16T12:50:04.937659Z",
     "start_time": "2018-11-16T12:50:04.873865Z"
    },
    "hidden": true
   },
   "outputs": [],
   "source": [
    "model_json = pairs_model.to_json()\n",
    "with open(MODELS_PATH + ToR_MODEL_NAME + '.json', \"w\") as json_file:\n",
    "    json_file.write(model_json)\n",
    "pairs_model.save_weights(MODELS_PATH + ToR_MODEL_NAME + '.h5')\n",
    "print(\"Save Model\")"
   ]
  },
  {
   "cell_type": "markdown",
   "metadata": {
    "heading_collapsed": true
   },
   "source": [
    "# Export results to a csv file (with original ASNs)\n",
    "## Define functions"
   ]
  },
  {
   "cell_type": "code",
   "execution_count": null,
   "metadata": {
    "ExecuteTime": {
     "end_time": "2018-10-20T15:53:31.858073Z",
     "start_time": "2018-10-20T15:53:31.831311Z"
    },
    "hidden": true
   },
   "outputs": [],
   "source": [
    "def index2ASN(dataset_indexed, ASN_index_map):\n",
    "    dataset = []\n",
    "    index_ASN_map = {index: ASN for ASN, index in ASN_index_map.iteritems()}\n",
    "    for row_indexed in dataset_indexed:\n",
    "        row = []\n",
    "        for index in row_indexed:\n",
    "            if index != 0:\n",
    "                row += [index_ASN_map[index]]\n",
    "        dataset.append(row)\n",
    "    \n",
    "    return dataset\n",
    "\n",
    "def index2ASN_labeled(dataset_indexed, labels_indexed, ASN_index_map):\n",
    "    dataset = []\n",
    "    index_ASN_map = {index: ASN for ASN, index in ASN_index_map.iteritems()}\n",
    "    labels_colors_map = {0:'GREEN', 1:'RED'}\n",
    "    \n",
    "    for i, row_indexed in enumerate(dataset_indexed):\n",
    "        row = []\n",
    "        for index in row_indexed:\n",
    "            if index != 0:\n",
    "                row += [index_ASN_map[index]]\n",
    "        row += [labels_colors_map[labels_indexed[i]]]\n",
    "        dataset.append(row)\n",
    "    \n",
    "    return dataset\n",
    "\n",
    "import csv\n",
    "def export_csv(dataset, csv_name):\n",
    "    with open(csv_name + '.csv', 'wb') as csv_file:\n",
    "        csv_writer = csv.writer(csv_file)\n",
    "        for row in dataset:\n",
    "            csv_writer.writerow(row)"
   ]
  },
  {
   "cell_type": "markdown",
   "metadata": {
    "heading_collapsed": true,
    "hidden": true
   },
   "source": [
    "## Load a relevant dataset {all, misclassified, decided, undecided} and get model predictions"
   ]
  },
  {
   "cell_type": "code",
   "execution_count": null,
   "metadata": {
    "ExecuteTime": {
     "end_time": "2018-10-20T15:35:46.412152Z",
     "start_time": "2018-10-20T15:30:04.317489Z"
    },
    "hidden": true
   },
   "outputs": [],
   "source": [
    "### misclassified from the entire dataset ###\n",
    "\n",
    "dataset = np.load(DATA_PATH + \"bgp_routes_indexed_dataset.npy\")\n",
    "labels = np.load(DATA_PATH + \"bgp_routes_labels.npy\")\n",
    "\n",
    "# remove UNDECIDED\n",
    "dataset = np.asarray([np.asarray(dataset[i]) for i in range(len(dataset)) if labels[i] != 2])\n",
    "labels = np.asarray([labels[i] for i in range(len(labels)) if labels[i] != 2])\n",
    "\n",
    "# pad sequences\n",
    "dataset = sequence.pad_sequences(dataset, maxlen=max_len)\n",
    "# Get Model Predictions\n",
    "predictions = model.predict_classes(dataset, verbose=1)"
   ]
  },
  {
   "cell_type": "code",
   "execution_count": null,
   "metadata": {
    "ExecuteTime": {
     "end_time": "2018-10-20T15:54:32.435559Z",
     "start_time": "2018-10-20T15:54:28.652217Z"
    },
    "hidden": true
   },
   "outputs": [],
   "source": [
    "# Create misclassified dataset\n",
    "x_misclassified = np.asarray([route for i,route in enumerate(dataset) if labels[i] != predictions[i]])\n",
    "y_misclassified_prediction = np.asarray([label for i,label in enumerate(predictions) if labels[i] != predictions[i]])\n",
    "print len(x_misclassified), len(y_misclassified_prediction)"
   ]
  },
  {
   "cell_type": "markdown",
   "metadata": {
    "hidden": true
   },
   "source": [
    "## Export Results"
   ]
  },
  {
   "cell_type": "code",
   "execution_count": null,
   "metadata": {
    "ExecuteTime": {
     "end_time": "2018-10-20T15:54:39.339072Z",
     "start_time": "2018-10-20T15:54:39.169037Z"
    },
    "hidden": true
   },
   "outputs": [],
   "source": [
    "dataset_misclassified = index2ASN_labeled(x_misclassified, y_misclassified_prediction, ASN_index_map)\n",
    "export_csv(dataset_misclassified, RESULTS_PATH + MODEL_NAME + \"_misclassified\")"
   ]
  }
 ],
 "metadata": {
  "kernelspec": {
   "display_name": "venv",
   "language": "python",
   "name": "python3"
  },
  "language_info": {
   "codemirror_mode": {
    "name": "ipython",
    "version": 3
   },
   "file_extension": ".py",
   "mimetype": "text/x-python",
   "name": "python",
   "nbconvert_exporter": "python",
   "pygments_lexer": "ipython3",
   "version": "3.12.3"
  },
  "toc": {
   "base_numbering": 1,
   "nav_menu": {},
   "number_sections": true,
   "sideBar": true,
   "skip_h1_title": false,
   "title_cell": "Table of Contents",
   "title_sidebar": "Contents",
   "toc_cell": false,
   "toc_position": {},
   "toc_section_display": true,
   "toc_window_display": true
  },
  "varInspector": {
   "cols": {
    "lenName": 16,
    "lenType": 16,
    "lenVar": 40
   },
   "kernels_config": {
    "python": {
     "delete_cmd_postfix": "",
     "delete_cmd_prefix": "del ",
     "library": "var_list.py",
     "varRefreshCmd": "print(var_dic_list())"
    },
    "r": {
     "delete_cmd_postfix": ") ",
     "delete_cmd_prefix": "rm(",
     "library": "var_list.r",
     "varRefreshCmd": "cat(var_dic_list()) "
    }
   },
   "types_to_exclude": [
    "module",
    "function",
    "builtin_function_or_method",
    "instance",
    "_Feature"
   ],
   "window_display": false
  }
 },
 "nbformat": 4,
 "nbformat_minor": 2
}
